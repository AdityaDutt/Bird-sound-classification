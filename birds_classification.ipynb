{
 "metadata": {
  "language_info": {
   "codemirror_mode": {
    "name": "ipython",
    "version": 3
   },
   "file_extension": ".py",
   "mimetype": "text/x-python",
   "name": "python",
   "nbconvert_exporter": "python",
   "pygments_lexer": "ipython3",
   "version": "3.7.3-final"
  },
  "orig_nbformat": 2,
  "kernelspec": {
   "name": "python3",
   "display_name": "Python 3.7.3 64-bit ('venv')",
   "metadata": {
    "interpreter": {
     "hash": "323239a62ab4dabf9c77d9c775c697cbfef6e69e08ae957f281e5bc2f651c4a8"
    }
   }
  }
 },
 "nbformat": 4,
 "nbformat_minor": 2,
 "cells": [
  {
   "source": [
    "## Birds Sound Classification using Siamese Networks\n",
    "<img align=\"center\" alt=\"Python\" width=\"20%\" src=\"https://media.giphy.com/media/MYxWqhObg2EqVGkF0W/giphy.gif\" />\n"
   ],
   "cell_type": "markdown",
   "metadata": {}
  },
  {
   "source": [
    "### Import libraries"
   ],
   "cell_type": "markdown",
   "metadata": {}
  },
  {
   "cell_type": "code",
   "execution_count": 13,
   "metadata": {},
   "outputs": [],
   "source": [
    "import os, sys, cv2, matplotlib.pyplot as plt, numpy as np, shutil, itertools, pickle, pandas as pd, seaborn as sn\n",
    "from random import seed, random, randint\n",
    "from scipy.spatial import distance\n",
    "import random\n",
    "\n",
    "import tensorflow as tf\n",
    "from keras import backend as K\n",
    "from keras.models import Model, load_model, Sequential\n",
    "from keras.layers import Input, Dense, Masking, Conv1DTranspose, Conv1D, Flatten, Reshape, LSTM, TimeDistributed\n",
    "\n",
    "from sklearn.metrics import confusion_matrix\n",
    "from sklearn.preprocessing import normalize\n",
    "from mpl_toolkits.mplot3d import Axes3D\n",
    "\n",
    "import librosa \n",
    "import librosa.display\n"
   ]
  },
  {
   "source": [
    "### Read audio files"
   ],
   "cell_type": "markdown",
   "metadata": {}
  },
  {
   "cell_type": "code",
   "execution_count": 14,
   "metadata": {},
   "outputs": [],
   "source": [
    "bird1 = []\n",
    "bird2 = []\n",
    "\n",
    "dir = os.getcwd() + \"/BirdData/\"\n",
    "\n",
    "# Read all audio files from directory\n",
    "for root, dirs, files in os.walk(dir, topdown=False):    \n",
    "    for name in files:\n",
    "        if name.find(\".wav\") != -1 :\n",
    "            fullname = os.path.join(root, name)\n",
    "            if fullname.find(\"Class_Chickadee\") != -1 :\n",
    "                bird1.append(fullname)\n",
    "            else :\n",
    "                bird2.append(fullname)\n",
    "\n",
    "\n",
    "# Put all samples in test data\n",
    "test_bird1 = bird1\n",
    "test_bird2 = bird2\n",
    "\n",
    "\n",
    "# Train on random 40 samples from each class\n",
    "random_indices = random.sample(range(0, len(bird1)), 40)\n",
    "bird1 = [bird1[x] for x in random_indices]\n",
    "\n",
    "random_indices = random.sample(range(0, len(bird2)), 40)\n",
    "bird2 = [bird2[x] for x in random_indices]"
   ]
  },
  {
   "source": [
    "### Extract spectrograms using librosa"
   ],
   "cell_type": "markdown",
   "metadata": {}
  },
  {
   "cell_type": "code",
   "execution_count": 15,
   "metadata": {},
   "outputs": [],
   "source": [
    "X1 = []\n",
    "X2 = []\n",
    "y = []\n",
    "\n",
    "# Extract spectrograms of bird 1 (Chickadee)\n",
    "for i in range(len(bird1)) :\n",
    "\n",
    "    fname = bird1[i]\n",
    "    y1, sr1 = librosa.load(fname)\n",
    "    S1 = np.abs(librosa.stft(y1, n_fft=512)).T\n",
    "    S1 = S1/np.amax(S1)\n",
    "\n",
    "    X1.append(S1)\n",
    "    y.append(1) # Set target label to 1\n",
    "\n",
    "\n",
    "# Extract spectrograms of bird 2 (Titmouse)\n",
    "for i in range(len(bird2)) :\n",
    "    \n",
    "    fname = bird2[i]\n",
    "    y1, sr1 = librosa.load(fname)\n",
    "    S1 = np.abs(librosa.stft(y1, n_fft=512)).T\n",
    "    S1 = S1/np.amax(S1)\n",
    "\n",
    "    X2.append(S1)\n",
    "    y.append(0) # Set target label to 0\n",
    "\n",
    "\n",
    "y = np.array(y)"
   ]
  },
  {
   "source": [
    "### We will use siamese networks for classification. So, we will need a pair of images as input. If the pair belongs to the same class, then the target output is set to 1. Otherwise the target is set to 0. \n",
    "\n",
    "<img align=\"center\" alt=\"Python\" width=\"40%\" src=\"https://miro.medium.com/max/1400/1*I7a9aVN2poHUtiHSq2q44Q.png\" />\n",
    "\n"
   ],
   "cell_type": "markdown",
   "metadata": {}
  },
  {
   "cell_type": "code",
   "execution_count": 16,
   "metadata": {},
   "outputs": [
    {
     "output_type": "stream",
     "name": "stdout",
     "text": [
      "Positive pair  1560\nNegative pair  1560\n"
     ]
    }
   ],
   "source": [
    "# Generate positive samples of chickadee\n",
    "positive_chickadee = list(itertools.combinations(bird1, 2))\n",
    "\n",
    "# Generate positive samples of titmouse\n",
    "positive_titmouse = list(itertools.combinations(bird2, 2))\n",
    "\n",
    "\n",
    "positive = positive_chickadee + positive_titmouse\n",
    "\n",
    "# Generate negative samples\n",
    "negative = itertools.product(bird1, bird2)\n",
    "negative = list(negative)\n",
    "negative = random.sample(negative, len(positive_chickadee)*2)\n",
    "\n",
    "print(\"Positive pair \", len(positive))\n",
    "print(\"Negative pair \", len(negative))\n"
   ]
  }
 ]
}